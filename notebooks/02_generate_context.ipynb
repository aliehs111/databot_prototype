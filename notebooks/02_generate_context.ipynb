{
 "cells": [
  {
   "cell_type": "code",
   "execution_count": 1,
   "id": "c3d3e29e-bd3a-42c7-bfc8-d42cc4a87cb6",
   "metadata": {},
   "outputs": [],
   "source": [
    "import sys\n",
    "from pathlib import Path\n",
    "\n",
    "# Add src/ to path so we can import from cleaning\n",
    "sys.path.insert(0, str(Path.cwd().parent / \"src\"))\n",
    "\n",
    "from cleaning import load_dataset, prepare_dataset, get_missing_value_summary\n",
    "from context import generate_context_summary\n",
    "\n",
    "# Load the dataset again\n",
    "dataset_name = \"FloridaBikeRentals.csv\"\n",
    "df = load_dataset(dataset_name)\n",
    "df = prepare_dataset(df)\n",
    "\n"
   ]
  },
  {
   "cell_type": "code",
   "execution_count": 2,
   "id": "a2e577d1-1d4b-405a-8808-a4cec34ea830",
   "metadata": {},
   "outputs": [
    {
     "name": "stdout",
     "output_type": "stream",
     "text": [
      "{'shape': (8760, 14), 'columns': ['date', 'rented_bike_count', 'hour', 'temperaturec', 'humidity', 'wind_speed_ms', 'visibility_10m', 'dew_point_temperaturec', 'solar_radiation_mjm2', 'rainfallmm', 'snowfall_cm', 'seasons', 'holiday', 'functioning_day'], 'missing': {'date': 0, 'rented_bike_count': 0, 'hour': 0, 'temperaturec': 0, 'humidity': 0, 'wind_speed_ms': 0, 'visibility_10m': 0, 'dew_point_temperaturec': 0, 'solar_radiation_mjm2': 0, 'rainfallmm': 0, 'snowfall_cm': 0, 'seasons': 0, 'holiday': 0, 'functioning_day': 0}}\n"
     ]
    }
   ],
   "source": [
    "# 02_generate_context.ipynb\n",
    "from cleaning import get_missing_value_summary\n",
    "\n",
    "summary = {\n",
    "    \"shape\": df.shape,\n",
    "    \"columns\": df.columns.tolist(),\n",
    "    \"missing\": get_missing_value_summary(df).to_dict()\n",
    "}\n",
    "\n",
    "print(summary)\n"
   ]
  },
  {
   "cell_type": "code",
   "execution_count": 4,
   "id": "4af3a360-8b0d-41ef-ab9c-ab5a6270f8a3",
   "metadata": {},
   "outputs": [
    {
     "name": "stdout",
     "output_type": "stream",
     "text": [
      "🤖 Databot says:\n",
      "\n",
      "📊 This dataset has **8760 rows** and **14 columns**.\n",
      "\n",
      "🔢 Columns:\n",
      "date, rented_bike_count, hour, temperaturec, humidity, wind_speed_ms, visibility_10m, dew_point_temperaturec, solar_radiation_mjm2, rainfallmm, snowfall_cm, seasons, holiday, functioning_day\n",
      "\n",
      "🕳️ Missing Data Summary:\n",
      "There are no missing values in this dataset.\n"
     ]
    }
   ],
   "source": [
    "print(\"🤖 Databot says:\\n\")\n",
    "print(generate_context_summary(df))\n"
   ]
  },
  {
   "cell_type": "code",
   "execution_count": null,
   "id": "e4522c9a-900f-4d59-a8df-8eca25c9c49c",
   "metadata": {},
   "outputs": [],
   "source": []
  }
 ],
 "metadata": {
  "kernelspec": {
   "display_name": "Python 3 (ipykernel)",
   "language": "python",
   "name": "python3"
  },
  "language_info": {
   "codemirror_mode": {
    "name": "ipython",
    "version": 3
   },
   "file_extension": ".py",
   "mimetype": "text/x-python",
   "name": "python",
   "nbconvert_exporter": "python",
   "pygments_lexer": "ipython3",
   "version": "3.11.13"
  }
 },
 "nbformat": 4,
 "nbformat_minor": 5
}

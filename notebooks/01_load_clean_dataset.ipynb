{
 "cells": [
  {
   "cell_type": "code",
   "execution_count": null,
   "id": "2f77f5ee-8a2e-4e26-a32a-8fb63cc1174f",
   "metadata": {},
   "outputs": [],
   "source": [
    "from pathlib import Path\n",
    "import pandas as pd\n",
    "\n",
    "# 🔧 Set dataset filename here — change only this variable to test a different file\n",
    "dataset_name = \"job_0628_export.csv\"\n",
    "\n",
    "# 📁 Construct full path from dataset name\n",
    "dataset_path = Path(\"../data/raw\") / dataset_name\n",
    "\n",
    "# 📄 Load dataset\n",
    "df = pd.read_csv(dataset_path)\n",
    "df.head()\n"
   ]
  },
  {
   "cell_type": "code",
   "execution_count": null,
   "id": "442d6282-8e54-479e-8c68-f83bfc72ea6c",
   "metadata": {},
   "outputs": [],
   "source": [
    "def clean_dataframe(df):\n",
    "    # Remove filler rows above the real header\n",
    "    if df.columns.str.contains(\"Unnamed\").all():\n",
    "        for i in range(3):  # try first 3 rows\n",
    "            row = df.iloc[i]\n",
    "            if row.dropna().str.contains(r\"(?i)job|material|po|date\").any():\n",
    "                df.columns = row\n",
    "                df = df.iloc[i + 1:].reset_index(drop=True)\n",
    "                break\n",
    "    return df\n",
    "\n",
    "df = clean_dataframe(df)\n",
    "df.head()\n"
   ]
  },
  {
   "cell_type": "code",
   "execution_count": null,
   "id": "62d62a1d-469c-42c2-9edf-1a86eb24c6ab",
   "metadata": {},
   "outputs": [],
   "source": [
    "def load_dataset(name: str):\n",
    "    path = Path(\"../data/raw\") / name\n",
    "    return pd.read_csv(path)\n",
    "\n",
    "df = load_dataset(\"job_0628_export.csv\")\n"
   ]
  }
 ],
 "metadata": {
  "kernelspec": {
   "display_name": "Python 3 (ipykernel)",
   "language": "python",
   "name": "python3"
  },
  "language_info": {
   "codemirror_mode": {
    "name": "ipython",
    "version": 3
   },
   "file_extension": ".py",
   "mimetype": "text/x-python",
   "name": "python",
   "nbconvert_exporter": "python",
   "pygments_lexer": "ipython3",
   "version": "3.11.13"
  }
 },
 "nbformat": 4,
 "nbformat_minor": 5
}
